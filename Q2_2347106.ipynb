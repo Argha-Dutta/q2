{
 "cells": [
  {
   "cell_type": "markdown",
   "metadata": {},
   "source": [
    ">1.LIST\n",
    "\n",
    "Write a PYTHON script with List comprehension for the following\n",
    "\n",
    "1.Is the given list divisible by 3 or NOT?"
   ]
  },
  {
   "cell_type": "code",
   "execution_count": 1,
   "metadata": {},
   "outputs": [
    {
     "name": "stdout",
     "output_type": "stream",
     "text": [
      "78 is divisible by 3\n",
      "64 is not divisible by 3\n",
      "32 is not divisible by 3\n",
      "75 is divisible by 3\n",
      "78 is divisible by 3\n",
      "66 is divisible by 3\n",
      "45 is divisible by 3\n",
      "96 is divisible by 3\n",
      "75 is divisible by 3\n",
      "77 is not divisible by 3\n"
     ]
    }
   ],
   "source": [
    "marks=[78,64,32,75,78,66,45,96,75,77]\n",
    "for x in marks:\n",
    "    if(x%3==0):\n",
    "        print(x,\"is divisible by 3\")\n",
    "    else:\n",
    "        print(x,\"is not divisible by 3\")\n",
    "            "
   ]
  },
  {
   "cell_type": "markdown",
   "metadata": {},
   "source": [
    "2.Square of even numbers in a list"
   ]
  },
  {
   "cell_type": "code",
   "execution_count": 2,
   "metadata": {},
   "outputs": [
    {
     "name": "stdout",
     "output_type": "stream",
     "text": [
      "6084\n",
      "4096\n",
      "1024\n",
      "6084\n",
      "4356\n",
      "9216\n"
     ]
    }
   ],
   "source": [
    "for x in marks:\n",
    "    if(x%2==0):\n",
    "        print(x**2)"
   ]
  },
  {
   "cell_type": "markdown",
   "metadata": {},
   "source": [
    "3.Sum of digits of all EVEN numbers in a list"
   ]
  },
  {
   "cell_type": "code",
   "execution_count": null,
   "metadata": {},
   "outputs": [],
   "source": [
    "for x in marks:\n",
    "    if x%2==0:\n",
    "        s=s+x"
   ]
  }
 ],
 "metadata": {
  "kernelspec": {
   "display_name": "Python 3",
   "language": "python",
   "name": "python3"
  },
  "language_info": {
   "codemirror_mode": {
    "name": "ipython",
    "version": 3
   },
   "file_extension": ".py",
   "mimetype": "text/x-python",
   "name": "python",
   "nbconvert_exporter": "python",
   "pygments_lexer": "ipython3",
   "version": "3.11.3"
  },
  "orig_nbformat": 4
 },
 "nbformat": 4,
 "nbformat_minor": 2
}
