{
 "cells": [
  {
   "cell_type": "markdown",
   "metadata": {},
   "source": [
    ">1.LIST\n",
    "\n",
    "Write a PYTHON script with List comprehension for the following\n",
    "\n",
    "1.Is the given list divisible by 3 or NOT?"
   ]
  },
  {
   "cell_type": "code",
   "execution_count": 37,
   "metadata": {},
   "outputs": [
    {
     "name": "stdout",
     "output_type": "stream",
     "text": [
      "78 is divisible by 3\n",
      "64 is not divisible by 3\n",
      "32 is not divisible by 3\n",
      "75 is divisible by 3\n",
      "78 is divisible by 3\n",
      "66 is divisible by 3\n",
      "96 is divisible by 3\n",
      "75 is divisible by 3\n",
      "77 is not divisible by 3\n",
      "64 is not divisible by 3\n"
     ]
    }
   ],
   "source": [
    "marks = [78, 64, 32, 75, 78, 66, 96, 75, 77, 64]\n",
    "result = [f\"{x} is divisible by 3\" if x % 3 == 0 else f\"{x} is not divisible by 3\" for x in marks]\n",
    "\n",
    "for i in result:\n",
    "    print(i)\n",
    "            "
   ]
  },
  {
   "cell_type": "markdown",
   "metadata": {},
   "source": [
    "2.Square of even numbers in a list"
   ]
  },
  {
   "cell_type": "code",
   "execution_count": 39,
   "metadata": {},
   "outputs": [
    {
     "name": "stdout",
     "output_type": "stream",
     "text": [
      "6084\n",
      "4096\n",
      "1024\n",
      "6084\n",
      "4356\n",
      "9216\n",
      "4096\n"
     ]
    }
   ],
   "source": [
    "\n",
    "marks = [78, 64, 32, 75, 78, 66, 96, 75, 77, 64]\n",
    "result = [x**2 for x in marks if x % 2 == 0]\n",
    "\n",
    "for x in result:\n",
    "    print(x)\n",
    "        "
   ]
  },
  {
   "cell_type": "markdown",
   "metadata": {},
   "source": [
    "3.Sum of digits of all EVEN numbers in a list"
   ]
  },
  {
   "cell_type": "code",
   "execution_count": 40,
   "metadata": {},
   "outputs": [
    {
     "name": "stdout",
     "output_type": "stream",
     "text": [
      "The sum of all the even numbers in the list is: 478\n"
     ]
    }
   ],
   "source": [
    "marks = [78, 64, 32, 75, 78, 66, 96, 75, 77, 64]\n",
    "s = sum([x for x in marks if x % 2 == 0])\n",
    "print(\"The sum of all the even numbers in the list is:\", s)\n",
    "     "
   ]
  },
  {
   "cell_type": "markdown",
   "metadata": {},
   "source": [
    "4.Remove duplicate numbers in a list"
   ]
  },
  {
   "cell_type": "code",
   "execution_count": 50,
   "metadata": {},
   "outputs": [
    {
     "name": "stdout",
     "output_type": "stream",
     "text": [
      "The list after removing duplicate elements is: [None, None, None, None, None, None, None]\n"
     ]
    }
   ],
   "source": [
    "marks = [78, 64, 32, 75, 78, 66, 96, 75, 77, 64]\n",
    "marks1 = []\n",
    "[marks1.append(x) for x in marks if x not in marks1]\n",
    "print(\"The list after removing duplicate elements is:\", marks1)\n"
   ]
  },
  {
   "cell_type": "markdown",
   "metadata": {},
   "source": [
    ">2.Dictionary"
   ]
  }
 ],
 "metadata": {
  "kernelspec": {
   "display_name": "Python 3",
   "language": "python",
   "name": "python3"
  },
  "language_info": {
   "codemirror_mode": {
    "name": "ipython",
    "version": 3
   },
   "file_extension": ".py",
   "mimetype": "text/x-python",
   "name": "python",
   "nbconvert_exporter": "python",
   "pygments_lexer": "ipython3",
   "version": "3.11.3"
  },
  "orig_nbformat": 4
 },
 "nbformat": 4,
 "nbformat_minor": 2
}
